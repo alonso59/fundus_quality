{
 "cells": [
  {
   "cell_type": "code",
   "execution_count": 2,
   "metadata": {},
   "outputs": [
    {
     "name": "stdout",
     "output_type": "stream",
     "text": [
      "Warning: module QRetiNet is treated as a zero-op.\n",
      "QRetiNet(\n",
      "  56.51 k, 100.000% Params, 747.02 MMac, 100.000% MACs, \n",
      "  (layers): Sequential(\n",
      "    56.51 k, 100.000% Params, 747.02 MMac, 100.000% MACs, \n",
      "    (conv1): Conv2d(896, 1.586% Params, 44.96 MMac, 6.018% MACs, 3, 32, kernel_size=(3, 3), stride=(1, 1), padding=(1, 1))\n",
      "    (relu1): ReLU(0, 0.000% Params, 1.61 MMac, 0.215% MACs, )\n",
      "    (maxpool1): MaxPool2d(0, 0.000% Params, 1.61 MMac, 0.215% MACs, kernel_size=2, stride=2, padding=0, dilation=1, ceil_mode=False)\n",
      "    (bn1): BatchNorm2d(64, 0.113% Params, 802.82 KMac, 0.107% MACs, 32, eps=1e-05, momentum=0.1, affine=True, track_running_stats=True)\n",
      "    (conv2): Conv2d(18.5 k, 32.729% Params, 232.01 MMac, 31.059% MACs, 32, 64, kernel_size=(3, 3), stride=(1, 1), padding=(1, 1))\n",
      "    (relu2): ReLU(0, 0.000% Params, 802.82 KMac, 0.107% MACs, )\n",
      "    (conv3): Conv2d(36.93 k, 65.345% Params, 463.22 MMac, 62.010% MACs, 64, 64, kernel_size=(3, 3), stride=(1, 1), padding=(1, 1))\n",
      "    (relu3): ReLU(0, 0.000% Params, 802.82 KMac, 0.107% MACs, )\n",
      "    (maxpool2): MaxPool2d(0, 0.000% Params, 802.82 KMac, 0.107% MACs, kernel_size=2, stride=2, padding=0, dilation=1, ceil_mode=False)\n",
      "    (bn2): BatchNorm2d(128, 0.227% Params, 401.41 KMac, 0.054% MACs, 64, eps=1e-05, momentum=0.1, affine=True, track_running_stats=True)\n",
      "  )\n",
      ")\n",
      "Computational complexity:       747.02 MMac\n",
      "Number of parameters:           56.51 k \n"
     ]
    }
   ],
   "source": [
    "import torchvision.models as models\n",
    "import torch\n",
    "from ptflops import get_model_complexity_info\n",
    "from retinet import QRetiNet\n",
    "import torch\n",
    "import numpy as np\n",
    "import torch.nn as nn\n",
    "from trainer import *\n",
    "from retinet import QRetiNet\n",
    "from data import loaders\n",
    "from torchsummary import summary\n",
    "from utils import create_dir, seeding\n",
    "from swin_transformer import SwinTransformer, swin_t\n",
    "from torch.optim.lr_scheduler import StepLR\n",
    "import torchmetrics.functional as M\n",
    "\n",
    "import torchvision.models as models\n",
    "from add_pretrain import DRNetQTImageNet\n",
    "from NAT import *\n",
    "\n",
    "with torch.cuda.device(0):\n",
    "  net = QRetiNet(n_classes=1).to('cuda')\n",
    "  macs, params = get_model_complexity_info(net, (3, 224, 224), as_strings=True,\n",
    "                                           print_per_layer_stat=True, verbose=True)\n",
    "  print('{:<30}  {:<8}'.format('Computational complexity: ', macs))\n",
    "  print('{:<30}  {:<8}'.format('Number of parameters: ', params))"
   ]
  },
  {
   "cell_type": "code",
   "execution_count": null,
   "metadata": {},
   "outputs": [],
   "source": []
  }
 ],
 "metadata": {
  "interpreter": {
   "hash": "b24ed838d4a46124cbd36f3ed1e02e24eac4a9a48ec44d5c1200085c82eae051"
  },
  "kernelspec": {
   "display_name": "Python 3.7.11 ('torch')",
   "language": "python",
   "name": "python3"
  },
  "language_info": {
   "codemirror_mode": {
    "name": "ipython",
    "version": 3
   },
   "file_extension": ".py",
   "mimetype": "text/x-python",
   "name": "python",
   "nbconvert_exporter": "python",
   "pygments_lexer": "ipython3",
   "version": "3.7.11"
  },
  "orig_nbformat": 4
 },
 "nbformat": 4,
 "nbformat_minor": 2
}
