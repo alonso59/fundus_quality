{
 "cells": [
  {
   "cell_type": "code",
   "execution_count": 28,
   "metadata": {},
   "outputs": [
    {
     "name": "stdout",
     "output_type": "stream",
     "text": [
      "966\n",
      "524\n"
     ]
    }
   ],
   "source": [
    "import pandas as pd\n",
    "import os\n",
    "import shutil\n",
    "\n",
    "# Read the CSV file\n",
    "df = pd.read_csv('../outputs/R4.csv')\n",
    "print(len(df))\n",
    "# Filter the dataframe by suitability = 1\n",
    "filtered_df = df[df['Suitability'] == 1]\n",
    "# Get the list of filenames from the filtered dataframe\n",
    "filename_list = filtered_df['Filename'].tolist()\n",
    "print(len(filename_list))\n",
    "# Specify the new folder path\n",
    "new_folder = '../datasets/data/RS4'\n",
    "\n",
    "# Create the new folder if it doesn't exist\n",
    "if not os.path.exists(new_folder):\n",
    "    os.makedirs(new_folder)\n",
    "    \n",
    "# Copy files from datasets/data/R0 to datasets/data/RS0\n",
    "\n",
    "for filename in filename_list:\n",
    "    source_path = os.path.join('../outputs/R4_ROI', filename)\n",
    "    destination_path = os.path.join(new_folder, filename)\n",
    "    shutil.copy(source_path, destination_path)"
   ]
  },
  {
   "cell_type": "code",
   "execution_count": 5,
   "metadata": {},
   "outputs": [],
   "source": [
    "import os\n",
    "import random\n",
    "from sklearn.model_selection import train_test_split\n",
    "import shutil\n",
    "\n",
    "# Specify the folder paths\n",
    "folder_paths = ['../datasets/data/R0', '../datasets/data/R1', '../datasets/data/R2', '../datasets/data/R3', '../datasets/data/R4']\n",
    "\n",
    "# Specify the output folder paths\n",
    "train_folder = '../datasets/dataset_0/train'\n",
    "val_folder = '../datasets/dataset_0/val'\n",
    "\n",
    "# Create the output folders if they don't exist\n",
    "os.makedirs(train_folder, exist_ok=True)\n",
    "os.makedirs(val_folder, exist_ok=True)\n",
    "\n",
    "# Create folders 0 to 4 in train and val\n",
    "for i in range(5):\n",
    "    os.makedirs(os.path.join(train_folder, str(i)), exist_ok=True)\n",
    "    os.makedirs(os.path.join(val_folder, str(i)), exist_ok=True)\n",
    "        \n",
    "# Iterate over each folder\n",
    "for idx, folder_path in enumerate(folder_paths):\n",
    "    # Get the list of filenames in the folder\n",
    "    filenames = []\n",
    "    for i in sorted(os.listdir(folder_path)):\n",
    "        if i.endswith(('jpg', 'jpeg', 'png', 'bmp')):\n",
    "            filenames.append(i)\n",
    "    # Shuffle the filenames randomly\n",
    "    random.shuffle(filenames)\n",
    "    # Split the filenames into train and validation sets\n",
    "    train_filenames, val_filenames = train_test_split(filenames, train_size=0.8, test_size=0.2, random_state=42)\n",
    "    \n",
    "    # Copy the train files to the train folder\n",
    "    for filename in train_filenames:\n",
    "        source_path = os.path.join(folder_path, filename)\n",
    "        destination_path = os.path.join(train_folder, str(idx), filename)\n",
    "        shutil.copy(source_path, destination_path)\n",
    "    \n",
    "    # Copy the validation files to the validation folder\n",
    "    for filename in val_filenames:\n",
    "        source_path = os.path.join(folder_path, filename)\n",
    "        destination_path = os.path.join(val_folder, str(idx), filename)\n",
    "        shutil.copy(source_path, destination_path)"
   ]
  }
 ],
 "metadata": {
  "kernelspec": {
   "display_name": "torch",
   "language": "python",
   "name": "python3"
  },
  "language_info": {
   "codemirror_mode": {
    "name": "ipython",
    "version": 3
   },
   "file_extension": ".py",
   "mimetype": "text/x-python",
   "name": "python",
   "nbconvert_exporter": "python",
   "pygments_lexer": "ipython3",
   "version": "3.12.4"
  }
 },
 "nbformat": 4,
 "nbformat_minor": 2
}
